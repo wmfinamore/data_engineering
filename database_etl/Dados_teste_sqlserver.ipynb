{
 "cells": [
  {
   "cell_type": "code",
   "execution_count": 2,
   "id": "914c5e49-9de9-4845-91c1-767663d268a9",
   "metadata": {},
   "outputs": [],
   "source": [
    "import pyodbc as db"
   ]
  },
  {
   "cell_type": "markdown",
   "id": "6f36bb84-1a85-489d-ad16-a64b0d782510",
   "metadata": {},
   "source": [
    "Criação da conexão com o SQL Server"
   ]
  },
  {
   "cell_type": "code",
   "execution_count": 3,
   "id": "ddccf288-29e5-4dc3-91e7-b6ea9baa169e",
   "metadata": {},
   "outputs": [],
   "source": [
    "server='localhost'\n",
    "database='agenda_servicos'\n",
    "username='sa'\n",
    "password='A12345678a'\n",
    "cnxn = db.connect('DRIVER={ODBC Driver 17 for SQL Server};SERVER='+server+';DATABASE='+database+';UID='+username+';PWD='+ password)\n",
    "cursor = cnxn.cursor()"
   ]
  },
  {
   "cell_type": "markdown",
   "id": "304e9b24-d5b1-4891-9abf-dad4b46b57a1",
   "metadata": {},
   "source": [
    "Testando a conexão com o SQL Server"
   ]
  },
  {
   "cell_type": "code",
   "execution_count": 4,
   "id": "987555e8-3681-457f-aae0-49dc6b33804f",
   "metadata": {},
   "outputs": [
    {
     "name": "stdout",
     "output_type": "stream",
     "text": [
      "(1, 'SEHAB - Outros')\n",
      "(2, 'SEHAB - Programas Habitacionais')\n",
      "(3, 'SEHAB - Regularização Fundiária')\n"
     ]
    }
   ],
   "source": [
    "cursor.execute('SELECT * FROM ASSUNTOS')\n",
    "for record in cursor:\n",
    "    print(record)"
   ]
  },
  {
   "cell_type": "markdown",
   "id": "59360ed2-7eff-4c89-beee-ae684707e8d8",
   "metadata": {},
   "source": [
    "https://faker.readthedocs.io/en/master/locales/pt_BR.html#"
   ]
  },
  {
   "cell_type": "code",
   "execution_count": 5,
   "id": "803dfff1-a3e3-4ad8-91fe-11ebeb3adec9",
   "metadata": {},
   "outputs": [],
   "source": [
    "from faker import Faker"
   ]
  },
  {
   "cell_type": "markdown",
   "id": "93e85052-2686-4b97-9faa-f81a93bd4353",
   "metadata": {},
   "source": [
    "Gerando dados para teste de inserção no SQL Server"
   ]
  },
  {
   "cell_type": "code",
   "execution_count": 7,
   "id": "9be482a7-ca68-4317-a046-ebeb671836cb",
   "metadata": {},
   "outputs": [],
   "source": [
    "fake = Faker('pt_BR')\n",
    "data = []\n",
    "i=1\n",
    "for r in range(1000):\n",
    "    data.append((i, fake.date(), fake.time(), fake.name(), fake.ssn(), fake.address(), fake.ascii_free_email(), fake.paragraph(nb_sentences=2)))\n",
    "    i+=1\n"
   ]
  },
  {
   "cell_type": "markdown",
   "id": "da7f893f-42a2-44ac-81f9-0161e1159c9a",
   "metadata": {},
   "source": [
    "Script para inserir dados por meio de parâmetros no SQL Server"
   ]
  },
  {
   "cell_type": "code",
   "execution_count": 8,
   "id": "37e88828-a65d-45c8-9893-c29ef3afb3a6",
   "metadata": {},
   "outputs": [],
   "source": [
    "query = \"\"\"insert into ATENDIMENTOS(protocolo_agenda,data_nascimento,horario_agendado,nome,cpf,endereco,email, demanda) values(?,?,?,?,?,?,?,?)\"\"\""
   ]
  },
  {
   "cell_type": "markdown",
   "id": "ccf0f43d-af38-439e-b08f-dcd6f9fc1132",
   "metadata": {},
   "source": [
    "Executando ajuste nos dados para usa-los como valor dos parâmetros do insert"
   ]
  },
  {
   "cell_type": "code",
   "execution_count": 9,
   "id": "ef72c2d4-fd2e-4448-80cd-1a784c52b416",
   "metadata": {},
   "outputs": [],
   "source": [
    "data_for_db = tuple(data)"
   ]
  },
  {
   "cell_type": "markdown",
   "id": "95876ef5-b2e1-41c4-9114-cd16f62ea640",
   "metadata": {},
   "source": [
    "Executar o script para todas as tuplas do data_for_db"
   ]
  },
  {
   "cell_type": "code",
   "execution_count": 11,
   "id": "e07a0f99-66b1-43d0-9cd8-2944bdcfcf74",
   "metadata": {},
   "outputs": [],
   "source": [
    "cursor.executemany(query, data_for_db)"
   ]
  },
  {
   "cell_type": "markdown",
   "id": "572888fd-8995-4383-9e34-4ac5b9a9f17b",
   "metadata": {},
   "source": [
    "Commitar e fechar a conexão com o banco de dados"
   ]
  },
  {
   "cell_type": "code",
   "execution_count": 12,
   "id": "25773d44-a648-48af-b9a8-e6f223bc0748",
   "metadata": {},
   "outputs": [],
   "source": [
    "cursor.commit()\n",
    "cursor.close()"
   ]
  }
 ],
 "metadata": {
  "kernelspec": {
   "display_name": "Python 3",
   "language": "python",
   "name": "python3"
  },
  "language_info": {
   "codemirror_mode": {
    "name": "ipython",
    "version": 3
   },
   "file_extension": ".py",
   "mimetype": "text/x-python",
   "name": "python",
   "nbconvert_exporter": "python",
   "pygments_lexer": "ipython3",
   "version": "3.9.2"
  }
 },
 "nbformat": 4,
 "nbformat_minor": 5
}
